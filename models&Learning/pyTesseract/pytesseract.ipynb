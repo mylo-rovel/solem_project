{
  "cells": [
    {
      "cell_type": "code",
      "execution_count": 6,
      "metadata": {
        "id": "DsFSZvbAxWAL"
      },
      "outputs": [],
      "source": [
        "import cv2\n",
        "import pytesseract\n",
        "import shutil\n",
        "import os\n",
        "import random\n",
        "try:\n",
        " from PIL import Image\n",
        "except ImportError:\n",
        " import Image"
      ]
    },
    {
      "cell_type": "code",
      "execution_count": 8,
      "metadata": {
        "colab": {
          "base_uri": "https://localhost:8080/",
          "height": 373
        },
        "id": "yAHERYBp5dka",
        "outputId": "3749dc5a-e101-43d3-865d-de6ba291d28b"
      },
      "outputs": [
        {
          "name": "stderr",
          "output_type": "stream",
          "text": [
            "[ WARN:0@33.354] global /io/opencv/modules/imgcodecs/src/loadsave.cpp (239) findDecoder imread_('/home/emilio/Documents/Projects/OpticalStuff/pyTesseract/targetDoc.jpg'): can't open/read file: check file path/integrity\n"
          ]
        },
        {
          "ename": "error",
          "evalue": "OpenCV(4.6.0) /io/opencv/modules/imgproc/src/color.cpp:182: error: (-215:Assertion failed) !_src.empty() in function 'cvtColor'\n",
          "output_type": "error",
          "traceback": [
            "\u001b[0;31m---------------------------------------------------------------------------\u001b[0m",
            "\u001b[0;31merror\u001b[0m                                     Traceback (most recent call last)",
            "Cell \u001b[0;32mIn [8], line 3\u001b[0m\n\u001b[1;32m      1\u001b[0m image_path\u001b[39m=\u001b[39m\u001b[39mf\u001b[39m\u001b[39m\"\u001b[39m\u001b[39m/home/emilio/Documents/Projects/OpticalStuff/pyTesseract/targetDoc.jpg\u001b[39m\u001b[39m\"\u001b[39m\n\u001b[1;32m      2\u001b[0m img \u001b[39m=\u001b[39m cv2\u001b[39m.\u001b[39mimread(image_path)\n\u001b[0;32m----> 3\u001b[0m img \u001b[39m=\u001b[39m cv2\u001b[39m.\u001b[39;49mcvtColor(img, cv2\u001b[39m.\u001b[39;49mCOLOR_BGR2RGB)\n\u001b[1;32m      4\u001b[0m cv2\u001b[39m.\u001b[39mimshow(\u001b[39m'\u001b[39m\u001b[39mResult\u001b[39m\u001b[39m'\u001b[39m, img)\n",
            "\u001b[0;31merror\u001b[0m: OpenCV(4.6.0) /io/opencv/modules/imgproc/src/color.cpp:182: error: (-215:Assertion failed) !_src.empty() in function 'cvtColor'\n"
          ]
        }
      ],
      "source": [
        "image_path=f\"/home/emilio/Documents/Projects/OpticalStuff/pyTesseract/targetDoc.jpg\"\n",
        "img = cv2.imread(image_path)\n",
        "img = cv2.cvtColor(img, cv2.COLOR_BGR2RGB)\n",
        "cv2.imshow('Result', img)"
      ]
    },
    {
      "cell_type": "code",
      "execution_count": null,
      "metadata": {
        "colab": {
          "base_uri": "https://localhost:8080/"
        },
        "id": "FyRlQ3C8x3ji",
        "outputId": "bb4471d8-ecec-4b8d-ba50-4e70a0e4be68"
      },
      "outputs": [
        {
          "name": "stdout",
          "output_type": "stream",
          "text": [
            " \n",
            "\n",
            "CEDULA DE REPUBLICA DE CHILE.\n",
            "\n",
            "IDENTIDAD SERVICIO DE REGISTRO CIVIL E IDENTIFICACION\n",
            "\n",
            "   \n",
            "   \n",
            "  \n",
            "\n",
            "APELLIDOS\n",
            "\n",
            " \n",
            "\n",
            " \n",
            "\f\n"
          ]
        }
      ],
      "source": [
        "\n",
        "extractedInformation = pytesseract.image_to_string(Image.open(image_path))\n",
        "print(extractedInformation)"
      ]
    },
    {
      "cell_type": "code",
      "execution_count": null,
      "metadata": {
        "id": "wDY2rz19yQhr"
      },
      "outputs": [],
      "source": []
    }
  ],
  "metadata": {
    "colab": {
      "provenance": []
    },
    "kernelspec": {
      "display_name": "Python 3.9.2 64-bit",
      "language": "python",
      "name": "python3"
    },
    "language_info": {
      "codemirror_mode": {
        "name": "ipython",
        "version": 3
      },
      "file_extension": ".py",
      "mimetype": "text/x-python",
      "name": "python",
      "nbconvert_exporter": "python",
      "pygments_lexer": "ipython3",
      "version": "3.9.2"
    },
    "vscode": {
      "interpreter": {
        "hash": "916dbcbb3f70747c44a77c7bcd40155683ae19c65e1c03b4aa3499c5328201f1"
      }
    }
  },
  "nbformat": 4,
  "nbformat_minor": 0
}
